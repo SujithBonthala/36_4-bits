{
  "nbformat": 4,
  "nbformat_minor": 0,
  "metadata": {
    "colab": {
      "provenance": []
    },
    "kernelspec": {
      "name": "python3",
      "display_name": "Python 3"
    },
    "language_info": {
      "name": "python"
    }
  },
  "cells": [
    {
      "cell_type": "code",
      "execution_count": null,
      "metadata": {
        "id": "oD4BIMLHlXYL"
      },
      "outputs": [],
      "source": [
        "import pandas as pd\n",
        "import numpy as np"
      ]
    },
    {
      "cell_type": "code",
      "source": [
        "df_2 = pd.read_csv('DotSlash_Scores_2.csv')"
      ],
      "metadata": {
        "id": "QTWd58cZpmfT"
      },
      "execution_count": null,
      "outputs": []
    },
    {
      "cell_type": "code",
      "source": [
        "m_total = df_2['Score'].mean()\n",
        "m_total"
      ],
      "metadata": {
        "colab": {
          "base_uri": "https://localhost:8080/"
        },
        "id": "RGLl3QjIqCy3",
        "outputId": "f4327af5-d552-4194-cddf-eeb83aba349d"
      },
      "execution_count": null,
      "outputs": [
        {
          "output_type": "execute_result",
          "data": {
            "text/plain": [
              "62.728662420382165"
            ]
          },
          "metadata": {},
          "execution_count": 3
        }
      ]
    },
    {
      "cell_type": "code",
      "source": [
        "def fun(df, sub):\n",
        "  return df['Score'].where(df['Course'] == sub).mean()"
      ],
      "metadata": {
        "id": "aYdbl-rSrak3"
      },
      "execution_count": null,
      "outputs": []
    },
    {
      "cell_type": "code",
      "source": [
        "m_bc = fun(df_2, 'BC')\n",
        "m_ipnp = fun(df_2, 'IPNP')\n",
        "m_aiwr = fun(df_2, 'AIWR')\n",
        "m_dfg = fun(df_2, 'DFG')\n",
        "print(m_bc, m_aiwr, m_ipnp, m_dfg)"
      ],
      "metadata": {
        "colab": {
          "base_uri": "https://localhost:8080/"
        },
        "id": "hvthS610smhD",
        "outputId": "641547a7-bb9b-4a22-923a-dca793e69eef"
      },
      "execution_count": null,
      "outputs": [
        {
          "output_type": "stream",
          "name": "stdout",
          "text": [
            "60.39869281045752 64.07479224376732 61.836363636363636 62.89622641509434\n"
          ]
        }
      ]
    },
    {
      "cell_type": "code",
      "source": [
        "mpd_bc = m_bc - m_total\n",
        "mpd_ipnp = m_ipnp - m_total\n",
        "mpd_aiwr = m_aiwr - m_total\n",
        "mpd_dfg = m_dfg - m_total"
      ],
      "metadata": {
        "id": "RZcC-gKBssKt"
      },
      "execution_count": null,
      "outputs": []
    },
    {
      "cell_type": "code",
      "source": [
        "def fun_2(df, sub):\n",
        "  a = df['Degree of difficulty of assignments'].where(df['Course'] == sub).mean()\n",
        "  b = df['Structuring of the course'].where(df['Course'] == sub).mean()\n",
        "  c = df['Course recommendation based on relevance'].where(df['Course'] == sub).mean()\n",
        "  return (a + b + c) / 3"
      ],
      "metadata": {
        "id": "PdWuEaT0t_8C"
      },
      "execution_count": null,
      "outputs": []
    },
    {
      "cell_type": "code",
      "source": [
        "df_1 = pd.read_csv('DotSlash_Feedback.csv')\n",
        "a = df_1['Degree of difficulty of assignments'].mean()\n",
        "b = df_1['Structuring of the course'].mean()\n",
        "c = df_1['Course recommendation based on relevance'].mean()\n",
        "m_total = (a + b + c) / 3\n",
        "m_bc = fun_2(df_1, 'BC')\n",
        "m_ipnp = fun_2(df_1, 'IPNP')\n",
        "m_aiwr = fun_2(df_1, 'AIWR')\n",
        "m_dfg = fun_2(df_1, 'DFG')\n",
        "print(m_total, m_bc, m_aiwr, m_ipnp, m_dfg)"
      ],
      "metadata": {
        "colab": {
          "base_uri": "https://localhost:8080/"
        },
        "id": "F0mfEsgSytJA",
        "outputId": "9e3c19bb-d5b4-41b2-d962-f67626a2284e"
      },
      "execution_count": null,
      "outputs": [
        {
          "output_type": "stream",
          "name": "stdout",
          "text": [
            "5.661571125265393 5.625272331154684 5.623268698060941 5.721212121212122 5.751572327044026\n"
          ]
        }
      ]
    },
    {
      "cell_type": "code",
      "source": [
        "mrd_bc = m_bc - m_total\n",
        "mrd_ipnp = m_ipnp - m_total\n",
        "mrd_aiwr = m_aiwr - m_total\n",
        "mrd_dfg = m_dfg - m_total"
      ],
      "metadata": {
        "id": "KNZIAzMZzy_L"
      },
      "execution_count": null,
      "outputs": []
    },
    {
      "cell_type": "code",
      "source": [
        "def fun_3(df, sub, year):\n",
        "  return df['Course'].where(df[\"Year\"] == year).value_counts()[sub]"
      ],
      "metadata": {
        "id": "Fhw3WkVT1MWr"
      },
      "execution_count": null,
      "outputs": []
    },
    {
      "cell_type": "code",
      "source": [
        "m_total19 = df_2['Year'].value_counts()[2019]\n",
        "m_bc19 = fun_3(df_2, 'BC', 2019)\n",
        "m_ipnp19 = fun_3(df_2, 'IPNP', 2019)\n",
        "m_aiwr19 = fun_3(df_2, 'AIWR', 2019)\n",
        "m_dfg19 = fun_3(df_2, 'DFG', 2019)\n",
        "print(m_total19, m_bc19, m_aiwr19, m_ipnp19, m_dfg19)"
      ],
      "metadata": {
        "colab": {
          "base_uri": "https://localhost:8080/"
        },
        "id": "qp9oeaKd1-eQ",
        "outputId": "55c19d81-ae3f-4be0-dfa9-64ab50e4a0f3"
      },
      "execution_count": null,
      "outputs": [
        {
          "output_type": "stream",
          "name": "stdout",
          "text": [
            "398 78 186 83 51\n"
          ]
        }
      ]
    },
    {
      "cell_type": "code",
      "source": [
        "m_total20 = df_2['Year'].value_counts()[2020]\n",
        "m_bc20 = fun_3(df_2, 'BC', 2020)\n",
        "m_ipnp20 = fun_3(df_2, 'IPNP', 2020)\n",
        "m_aiwr20 = fun_3(df_2, 'AIWR', 2020)\n",
        "m_dfg20 = fun_3(df_2, 'DFG', 2020)\n",
        "print(m_total20, m_bc20, m_aiwr20, m_ipnp20, m_dfg20)"
      ],
      "metadata": {
        "colab": {
          "base_uri": "https://localhost:8080/"
        },
        "id": "-wYbVFrR2ShC",
        "outputId": "77a07b88-8c94-4260-e4da-bfade60b541d"
      },
      "execution_count": null,
      "outputs": [
        {
          "output_type": "stream",
          "name": "stdout",
          "text": [
            "387 75 175 82 55\n"
          ]
        }
      ]
    },
    {
      "cell_type": "code",
      "source": [
        "import math\n",
        "ms_bc21 = math.ceil(m_bc20 * m_bc20 / m_bc19)\n",
        "ms_ipnp21 = math.ceil(m_ipnp20 * m_ipnp20 / m_ipnp19)\n",
        "ms_aiwr21 = math.ceil(m_aiwr20 * m_aiwr20 / m_aiwr19)\n",
        "ms_dfg21 = math.ceil(m_dfg20 * m_dfg20 / m_dfg19)\n",
        "print(ms_bc21, ms_ipnp21, ms_aiwr21, ms_dfg21)"
      ],
      "metadata": {
        "colab": {
          "base_uri": "https://localhost:8080/"
        },
        "id": "52mhL2pU5QW9",
        "outputId": "38f6ac05-1d0e-47f4-ae76-54fdd6c85c0b"
      },
      "execution_count": null,
      "outputs": [
        {
          "output_type": "stream",
          "name": "stdout",
          "text": [
            "73 82 165 60\n"
          ]
        }
      ]
    },
    {
      "cell_type": "code",
      "source": [
        "final_bc_inc = (ms_bc21 - m_bc20) + (mpd_bc)*5 + (mrd_bc)*3\n",
        "final_bc_inc = final_bc_inc / 3\n",
        "final_bc = math.ceil(m_bc20 + final_bc_inc)\n",
        "print(final_bc)"
      ],
      "metadata": {
        "colab": {
          "base_uri": "https://localhost:8080/"
        },
        "id": "sE-rV4DP6WNk",
        "outputId": "1b9009fd-b219-4c5f-a5fd-9c4497d882df"
      },
      "execution_count": null,
      "outputs": [
        {
          "output_type": "stream",
          "name": "stdout",
          "text": [
            "71\n"
          ]
        }
      ]
    },
    {
      "cell_type": "code",
      "source": [
        "final_ipnp_inc = (ms_ipnp21 - m_ipnp20) + (mpd_ipnp)*5 + (mrd_ipnp)*3\n",
        "final_ipnp_inc = final_ipnp_inc / 3\n",
        "final_ipnp = math.ceil(m_ipnp20 + final_ipnp_inc)\n",
        "print(final_ipnp)"
      ],
      "metadata": {
        "colab": {
          "base_uri": "https://localhost:8080/"
        },
        "id": "hXxbyIpa-nxL",
        "outputId": "069e2596-2f89-4f9a-82a1-37a28a634900"
      },
      "execution_count": null,
      "outputs": [
        {
          "output_type": "stream",
          "name": "stdout",
          "text": [
            "81\n"
          ]
        }
      ]
    },
    {
      "cell_type": "code",
      "source": [
        "final_aiwr_inc = (ms_aiwr21 - m_aiwr20) + (mpd_aiwr)*5 + (mrd_aiwr)*3\n",
        "final_aiwr_inc = final_aiwr_inc / 3\n",
        "final_aiwr = math.ceil(m_aiwr20 + final_aiwr_inc)\n",
        "print(final_aiwr)"
      ],
      "metadata": {
        "colab": {
          "base_uri": "https://localhost:8080/"
        },
        "id": "wT98s2NC-31H",
        "outputId": "bc78dab9-81d2-4c86-a1b3-3ef76e0ae4ef"
      },
      "execution_count": null,
      "outputs": [
        {
          "output_type": "stream",
          "name": "stdout",
          "text": [
            "174\n"
          ]
        }
      ]
    },
    {
      "cell_type": "code",
      "source": [
        "final_dfg_inc = (ms_dfg21 - m_dfg20) + (mpd_dfg)*5 + (mrd_dfg)*3\n",
        "final_dfg_inc = final_dfg_inc / 3\n",
        "final_dfg = math.ceil(m_dfg20 + final_dfg_inc)\n",
        "print(final_dfg)"
      ],
      "metadata": {
        "colab": {
          "base_uri": "https://localhost:8080/"
        },
        "id": "95r58CZX_LNO",
        "outputId": "bc0e9fa0-143d-4d40-f11d-829f728bccbb"
      },
      "execution_count": null,
      "outputs": [
        {
          "output_type": "stream",
          "name": "stdout",
          "text": [
            "58\n"
          ]
        }
      ]
    },
    {
      "cell_type": "code",
      "source": [],
      "metadata": {
        "id": "Hl_o_VsS_aPC"
      },
      "execution_count": null,
      "outputs": []
    }
  ]
}