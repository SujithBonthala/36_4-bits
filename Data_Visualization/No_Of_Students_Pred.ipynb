{
  "nbformat": 4,
  "nbformat_minor": 0,
  "metadata": {
    "colab": {
      "provenance": []
    },
    "kernelspec": {
      "name": "python3",
      "display_name": "Python 3"
    },
    "language_info": {
      "name": "python"
    }
  },
  "cells": [
    {
      "cell_type": "code",
      "execution_count": 1,
      "metadata": {
        "id": "oD4BIMLHlXYL"
      },
      "outputs": [],
      "source": [
        "import pandas as pd\n",
        "import numpy as np"
      ]
    },
    {
      "cell_type": "code",
      "source": [
        "df_2 = pd.read_csv('DotSlash_Scores_2.csv')"
      ],
      "metadata": {
        "id": "QTWd58cZpmfT"
      },
      "execution_count": 2,
      "outputs": []
    },
    {
      "cell_type": "code",
      "source": [
        "m_total = df_2['Score'].mean()\n",
        "m_total"
      ],
      "metadata": {
        "colab": {
          "base_uri": "https://localhost:8080/"
        },
        "id": "RGLl3QjIqCy3",
        "outputId": "838956ba-9199-4b2e-9475-034a3a577ae5"
      },
      "execution_count": 3,
      "outputs": [
        {
          "output_type": "execute_result",
          "data": {
            "text/plain": [
              "62.728662420382165"
            ]
          },
          "metadata": {},
          "execution_count": 3
        }
      ]
    },
    {
      "cell_type": "code",
      "source": [
        "def fun(df, sub):\n",
        "  return df['Score'].where(df['Course'] == sub).mean()"
      ],
      "metadata": {
        "id": "aYdbl-rSrak3"
      },
      "execution_count": 4,
      "outputs": []
    },
    {
      "cell_type": "code",
      "source": [
        "m_bc = fun(df_2, 'BC')\n",
        "m_ipnp = fun(df_2, 'IPNP')\n",
        "m_aiwr = fun(df_2, 'AIWR')\n",
        "m_dfg = fun(df_2, 'DFG')\n",
        "print(m_bc, m_aiwr, m_ipnp, m_dfg)"
      ],
      "metadata": {
        "colab": {
          "base_uri": "https://localhost:8080/"
        },
        "id": "hvthS610smhD",
        "outputId": "39e713af-cf25-4563-8459-763b2c77cd5f"
      },
      "execution_count": 5,
      "outputs": [
        {
          "output_type": "stream",
          "name": "stdout",
          "text": [
            "60.39869281045752 64.07479224376732 61.836363636363636 62.89622641509434\n"
          ]
        }
      ]
    },
    {
      "cell_type": "code",
      "source": [
        "mpd_bc = m_bc - m_total\n",
        "mpd_ipnp = m_ipnp - m_total\n",
        "mpd_aiwr = m_aiwr - m_total\n",
        "mpd_dfg = m_dfg - m_total"
      ],
      "metadata": {
        "id": "RZcC-gKBssKt"
      },
      "execution_count": 6,
      "outputs": []
    },
    {
      "cell_type": "code",
      "source": [
        "def fun_2(df, sub):\n",
        "  a = df['Degree of difficulty of assignments'].where(df['Course'] == sub).mean()\n",
        "  b = df['Structuring of the course'].where(df['Course'] == sub).mean()\n",
        "  c = df['Course recommendation based on relevance'].where(df['Course'] == sub).mean()\n",
        "  return (a + b + c) / 3"
      ],
      "metadata": {
        "id": "PdWuEaT0t_8C"
      },
      "execution_count": 7,
      "outputs": []
    },
    {
      "cell_type": "code",
      "source": [
        "df_1 = pd.read_csv('DotSlash_Feedback.csv')\n",
        "a = df_1['Degree of difficulty of assignments'].mean()\n",
        "b = df_1['Structuring of the course'].mean()\n",
        "c = df_1['Course recommendation based on relevance'].mean()\n",
        "m_total = (a + b + c) / 3\n",
        "m_bc = fun_2(df_1, 'BC')\n",
        "m_ipnp = fun_2(df_1, 'IPNP')\n",
        "m_aiwr = fun_2(df_1, 'AIWR')\n",
        "m_dfg = fun_2(df_1, 'DFG')\n",
        "print(m_total, m_bc, m_aiwr, m_ipnp, m_dfg)"
      ],
      "metadata": {
        "colab": {
          "base_uri": "https://localhost:8080/"
        },
        "id": "F0mfEsgSytJA",
        "outputId": "2c5fbe8a-dd2b-45b0-b07e-22fd13ac0cd1"
      },
      "execution_count": 8,
      "outputs": [
        {
          "output_type": "stream",
          "name": "stdout",
          "text": [
            "5.661571125265393 5.625272331154684 5.623268698060941 5.721212121212122 5.751572327044026\n"
          ]
        }
      ]
    },
    {
      "cell_type": "code",
      "source": [
        "mrd_bc = m_bc - m_total\n",
        "mrd_ipnp = m_ipnp - m_total\n",
        "mrd_aiwr = m_aiwr - m_total\n",
        "mrd_dfg = m_dfg - m_total"
      ],
      "metadata": {
        "id": "KNZIAzMZzy_L"
      },
      "execution_count": 9,
      "outputs": []
    },
    {
      "cell_type": "code",
      "source": [
        "def fun_3(df, sub, year):\n",
        "  return df['Course'].where(df[\"Year\"] == year).value_counts()[sub]"
      ],
      "metadata": {
        "id": "Fhw3WkVT1MWr"
      },
      "execution_count": 10,
      "outputs": []
    },
    {
      "cell_type": "code",
      "source": [
        "m_total19 = df_2['Year'].value_counts()[2019]\n",
        "m_bc19 = fun_3(df_2, 'BC', 2019)\n",
        "m_ipnp19 = fun_3(df_2, 'IPNP', 2019)\n",
        "m_aiwr19 = fun_3(df_2, 'AIWR', 2019)\n",
        "m_dfg19 = fun_3(df_2, 'DFG', 2019)\n",
        "print(m_total19, m_bc19, m_aiwr19, m_ipnp19, m_dfg19)"
      ],
      "metadata": {
        "colab": {
          "base_uri": "https://localhost:8080/"
        },
        "id": "qp9oeaKd1-eQ",
        "outputId": "33864840-fdfc-47a5-81c2-05b84d68bef2"
      },
      "execution_count": 11,
      "outputs": [
        {
          "output_type": "stream",
          "name": "stdout",
          "text": [
            "398 78 186 83 51\n"
          ]
        }
      ]
    },
    {
      "cell_type": "code",
      "source": [
        "m_total20 = df_2['Year'].value_counts()[2020]\n",
        "m_bc20 = fun_3(df_2, 'BC', 2020)\n",
        "m_ipnp20 = fun_3(df_2, 'IPNP', 2020)\n",
        "m_aiwr20 = fun_3(df_2, 'AIWR', 2020)\n",
        "m_dfg20 = fun_3(df_2, 'DFG', 2020)\n",
        "print(m_total20, m_bc20, m_aiwr20, m_ipnp20, m_dfg20)"
      ],
      "metadata": {
        "colab": {
          "base_uri": "https://localhost:8080/"
        },
        "id": "-wYbVFrR2ShC",
        "outputId": "25aabfb0-3cbd-4ba8-8698-0d2939ae18dd"
      },
      "execution_count": 12,
      "outputs": [
        {
          "output_type": "stream",
          "name": "stdout",
          "text": [
            "387 75 175 82 55\n"
          ]
        }
      ]
    },
    {
      "cell_type": "code",
      "source": [
        "import math\n",
        "ms_bc21 = math.ceil(m_bc20 * m_bc20 / m_bc19)\n",
        "ms_ipnp21 = math.ceil(m_ipnp20 * m_ipnp20 / m_ipnp19)\n",
        "ms_aiwr21 = math.ceil(m_aiwr20 * m_aiwr20 / m_aiwr19)\n",
        "ms_dfg21 = math.ceil(m_dfg20 * m_dfg20 / m_dfg19)\n",
        "print(ms_bc21, ms_ipnp21, ms_aiwr21, ms_dfg21)"
      ],
      "metadata": {
        "colab": {
          "base_uri": "https://localhost:8080/"
        },
        "id": "52mhL2pU5QW9",
        "outputId": "6ef39a1b-f47d-451c-ba5b-68ad0921ed82"
      },
      "execution_count": 13,
      "outputs": [
        {
          "output_type": "stream",
          "name": "stdout",
          "text": [
            "73 82 165 60\n"
          ]
        }
      ]
    },
    {
      "cell_type": "code",
      "source": [
        "final_bc_inc = (ms_bc21 - m_bc20) + (mpd_bc)*5 + (mrd_bc)*3\n",
        "final_bc_inc = final_bc_inc / 3\n",
        "final_bc = math.ceil(m_bc20 + final_bc_inc)\n",
        "print(final_bc)"
      ],
      "metadata": {
        "colab": {
          "base_uri": "https://localhost:8080/"
        },
        "id": "sE-rV4DP6WNk",
        "outputId": "f4bc5a26-95e7-4c82-9f35-4802dfbca18f"
      },
      "execution_count": 14,
      "outputs": [
        {
          "output_type": "stream",
          "name": "stdout",
          "text": [
            "71\n"
          ]
        }
      ]
    },
    {
      "cell_type": "code",
      "source": [
        "final_ipnp_inc = (ms_ipnp21 - m_ipnp20) + (mpd_ipnp)*5 + (mrd_ipnp)*3\n",
        "final_ipnp_inc = final_ipnp_inc / 3\n",
        "final_ipnp = math.ceil(m_ipnp20 + final_ipnp_inc)\n",
        "print(final_ipnp)"
      ],
      "metadata": {
        "colab": {
          "base_uri": "https://localhost:8080/"
        },
        "id": "hXxbyIpa-nxL",
        "outputId": "8179679e-5ea9-4c00-c9d1-df7574f36d68"
      },
      "execution_count": 15,
      "outputs": [
        {
          "output_type": "stream",
          "name": "stdout",
          "text": [
            "81\n"
          ]
        }
      ]
    },
    {
      "cell_type": "code",
      "source": [
        "final_aiwr_inc = (ms_aiwr21 - m_aiwr20) + (mpd_aiwr)*5 + (mrd_aiwr)*3\n",
        "final_aiwr_inc = final_aiwr_inc / 3\n",
        "final_aiwr = math.ceil(m_aiwr20 + final_aiwr_inc)\n",
        "print(final_aiwr)"
      ],
      "metadata": {
        "colab": {
          "base_uri": "https://localhost:8080/"
        },
        "id": "wT98s2NC-31H",
        "outputId": "e58ac8e5-d5f2-4a5c-dd74-2b7ef3dae76e"
      },
      "execution_count": 16,
      "outputs": [
        {
          "output_type": "stream",
          "name": "stdout",
          "text": [
            "174\n"
          ]
        }
      ]
    },
    {
      "cell_type": "code",
      "source": [
        "final_dfg_inc = (ms_dfg21 - m_dfg20) + (mpd_dfg)*5 + (mrd_dfg)*3\n",
        "final_dfg_inc = final_dfg_inc / 3\n",
        "final_dfg = math.ceil(m_dfg20 + final_dfg_inc)\n",
        "print(final_dfg)"
      ],
      "metadata": {
        "colab": {
          "base_uri": "https://localhost:8080/"
        },
        "id": "95r58CZX_LNO",
        "outputId": "84b7ce29-a07a-4057-ee03-9ec51ebd5045"
      },
      "execution_count": 18,
      "outputs": [
        {
          "output_type": "stream",
          "name": "stdout",
          "text": [
            "58\n"
          ]
        }
      ]
    },
    {
      "cell_type": "code",
      "source": [
        "data = {\n",
        "    'Subjects': ['AIWR', 'IPNP', 'BC', 'DFG'],\n",
        "    '2019' : [m_aiwr19, m_ipnp19, m_bc19, m_dfg19],\n",
        "    '2020' : [m_aiwr20, m_ipnp20, m_bc20, m_dfg20],\n",
        "    '2021 (Predicted)' : [final_aiwr, final_ipnp, final_bc, final_dfg],\n",
        "\n",
        "}\n",
        "final = pd.DataFrame(data)\n",
        "final"
      ],
      "metadata": {
        "colab": {
          "base_uri": "https://localhost:8080/",
          "height": 175
        },
        "id": "LFb4kkusSnqs",
        "outputId": "dadc23c2-85ee-494b-9de0-0ee07ae2819d"
      },
      "execution_count": 19,
      "outputs": [
        {
          "output_type": "execute_result",
          "data": {
            "text/plain": [
              "  Subjects  2019  2020  2021 (Predicted)\n",
              "0     AIWR   186   175               174\n",
              "1     IPNP    83    82                81\n",
              "2       BC    78    75                71\n",
              "3      DFG    51    55                58"
            ],
            "text/html": [
              "\n",
              "  <div id=\"df-8bc6fd4e-c83f-4335-a2ef-957095bbf71b\">\n",
              "    <div class=\"colab-df-container\">\n",
              "      <div>\n",
              "<style scoped>\n",
              "    .dataframe tbody tr th:only-of-type {\n",
              "        vertical-align: middle;\n",
              "    }\n",
              "\n",
              "    .dataframe tbody tr th {\n",
              "        vertical-align: top;\n",
              "    }\n",
              "\n",
              "    .dataframe thead th {\n",
              "        text-align: right;\n",
              "    }\n",
              "</style>\n",
              "<table border=\"1\" class=\"dataframe\">\n",
              "  <thead>\n",
              "    <tr style=\"text-align: right;\">\n",
              "      <th></th>\n",
              "      <th>Subjects</th>\n",
              "      <th>2019</th>\n",
              "      <th>2020</th>\n",
              "      <th>2021 (Predicted)</th>\n",
              "    </tr>\n",
              "  </thead>\n",
              "  <tbody>\n",
              "    <tr>\n",
              "      <th>0</th>\n",
              "      <td>AIWR</td>\n",
              "      <td>186</td>\n",
              "      <td>175</td>\n",
              "      <td>174</td>\n",
              "    </tr>\n",
              "    <tr>\n",
              "      <th>1</th>\n",
              "      <td>IPNP</td>\n",
              "      <td>83</td>\n",
              "      <td>82</td>\n",
              "      <td>81</td>\n",
              "    </tr>\n",
              "    <tr>\n",
              "      <th>2</th>\n",
              "      <td>BC</td>\n",
              "      <td>78</td>\n",
              "      <td>75</td>\n",
              "      <td>71</td>\n",
              "    </tr>\n",
              "    <tr>\n",
              "      <th>3</th>\n",
              "      <td>DFG</td>\n",
              "      <td>51</td>\n",
              "      <td>55</td>\n",
              "      <td>58</td>\n",
              "    </tr>\n",
              "  </tbody>\n",
              "</table>\n",
              "</div>\n",
              "      <button class=\"colab-df-convert\" onclick=\"convertToInteractive('df-8bc6fd4e-c83f-4335-a2ef-957095bbf71b')\"\n",
              "              title=\"Convert this dataframe to an interactive table.\"\n",
              "              style=\"display:none;\">\n",
              "        \n",
              "  <svg xmlns=\"http://www.w3.org/2000/svg\" height=\"24px\"viewBox=\"0 0 24 24\"\n",
              "       width=\"24px\">\n",
              "    <path d=\"M0 0h24v24H0V0z\" fill=\"none\"/>\n",
              "    <path d=\"M18.56 5.44l.94 2.06.94-2.06 2.06-.94-2.06-.94-.94-2.06-.94 2.06-2.06.94zm-11 1L8.5 8.5l.94-2.06 2.06-.94-2.06-.94L8.5 2.5l-.94 2.06-2.06.94zm10 10l.94 2.06.94-2.06 2.06-.94-2.06-.94-.94-2.06-.94 2.06-2.06.94z\"/><path d=\"M17.41 7.96l-1.37-1.37c-.4-.4-.92-.59-1.43-.59-.52 0-1.04.2-1.43.59L10.3 9.45l-7.72 7.72c-.78.78-.78 2.05 0 2.83L4 21.41c.39.39.9.59 1.41.59.51 0 1.02-.2 1.41-.59l7.78-7.78 2.81-2.81c.8-.78.8-2.07 0-2.86zM5.41 20L4 18.59l7.72-7.72 1.47 1.35L5.41 20z\"/>\n",
              "  </svg>\n",
              "      </button>\n",
              "      \n",
              "  <style>\n",
              "    .colab-df-container {\n",
              "      display:flex;\n",
              "      flex-wrap:wrap;\n",
              "      gap: 12px;\n",
              "    }\n",
              "\n",
              "    .colab-df-convert {\n",
              "      background-color: #E8F0FE;\n",
              "      border: none;\n",
              "      border-radius: 50%;\n",
              "      cursor: pointer;\n",
              "      display: none;\n",
              "      fill: #1967D2;\n",
              "      height: 32px;\n",
              "      padding: 0 0 0 0;\n",
              "      width: 32px;\n",
              "    }\n",
              "\n",
              "    .colab-df-convert:hover {\n",
              "      background-color: #E2EBFA;\n",
              "      box-shadow: 0px 1px 2px rgba(60, 64, 67, 0.3), 0px 1px 3px 1px rgba(60, 64, 67, 0.15);\n",
              "      fill: #174EA6;\n",
              "    }\n",
              "\n",
              "    [theme=dark] .colab-df-convert {\n",
              "      background-color: #3B4455;\n",
              "      fill: #D2E3FC;\n",
              "    }\n",
              "\n",
              "    [theme=dark] .colab-df-convert:hover {\n",
              "      background-color: #434B5C;\n",
              "      box-shadow: 0px 1px 3px 1px rgba(0, 0, 0, 0.15);\n",
              "      filter: drop-shadow(0px 1px 2px rgba(0, 0, 0, 0.3));\n",
              "      fill: #FFFFFF;\n",
              "    }\n",
              "  </style>\n",
              "\n",
              "      <script>\n",
              "        const buttonEl =\n",
              "          document.querySelector('#df-8bc6fd4e-c83f-4335-a2ef-957095bbf71b button.colab-df-convert');\n",
              "        buttonEl.style.display =\n",
              "          google.colab.kernel.accessAllowed ? 'block' : 'none';\n",
              "\n",
              "        async function convertToInteractive(key) {\n",
              "          const element = document.querySelector('#df-8bc6fd4e-c83f-4335-a2ef-957095bbf71b');\n",
              "          const dataTable =\n",
              "            await google.colab.kernel.invokeFunction('convertToInteractive',\n",
              "                                                     [key], {});\n",
              "          if (!dataTable) return;\n",
              "\n",
              "          const docLinkHtml = 'Like what you see? Visit the ' +\n",
              "            '<a target=\"_blank\" href=https://colab.research.google.com/notebooks/data_table.ipynb>data table notebook</a>'\n",
              "            + ' to learn more about interactive tables.';\n",
              "          element.innerHTML = '';\n",
              "          dataTable['output_type'] = 'display_data';\n",
              "          await google.colab.output.renderOutput(dataTable, element);\n",
              "          const docLink = document.createElement('div');\n",
              "          docLink.innerHTML = docLinkHtml;\n",
              "          element.appendChild(docLink);\n",
              "        }\n",
              "      </script>\n",
              "    </div>\n",
              "  </div>\n",
              "  "
            ]
          },
          "metadata": {},
          "execution_count": 19
        }
      ]
    },
    {
      "cell_type": "markdown",
      "source": [
        "## Faculty Recommendation for a course"
      ],
      "metadata": {
        "id": "wcrBOITKil4A"
      }
    },
    {
      "cell_type": "code",
      "source": [
        "df = pd.read_csv()-++++++++++++++\n",
        "\n",
        "\n",
        "\n",
        "\n",
        "\n",
        "\n",
        "\n",
        "\n",
        "\n",
        "\n",
        "\n",
        "\n",
        "\n",
        "\n",
        "\n",
        "\n",
        "\n",
        "\n",
        "\n",
        "\n",
        "\n",
        "\n"
      ],
      "metadata": {
        "id": "9kwSs9E2i0BZ"
      },
      "execution_count": null,
      "outputs": []
    }
  ]
}